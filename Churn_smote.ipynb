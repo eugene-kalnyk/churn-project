{
 "cells": [
  {
   "cell_type": "markdown",
   "id": "81f0008d-e8d9-41ff-8b0f-9c581e24914a",
   "metadata": {},
   "source": [
    "## Imports and Data Loading"
   ]
  },
  {
   "cell_type": "code",
   "execution_count": 11,
   "id": "be069a6c-88df-4aa0-bf3c-4338a30a4f29",
   "metadata": {},
   "outputs": [],
   "source": [
    "import pandas as pd\n",
    "import numpy as np\n",
    "import matplotlib.pyplot as plt\n",
    "import seaborn as sns\n",
    "from sklearn.model_selection import train_test_split\n",
    "from sklearn.linear_model import LogisticRegression\n",
    "from sklearn.metrics import accuracy_score, classification_report, confusion_matrix\n",
    "from sklearn.preprocessing import StandardScaler\n",
    "from sklearn.model_selection import cross_val_score\n",
    "from sklearn.metrics import roc_auc_score\n",
    "from sklearn.ensemble import RandomForestClassifier\n",
    "from xgboost import XGBClassifier\n",
    "from sklearn.ensemble import GradientBoostingClassifier\n",
    "from sklearn.model_selection import GridSearchCV\n",
    "from imblearn.over_sampling import SMOTE\n",
    "from joblib import dump"
   ]
  },
  {
   "cell_type": "code",
   "execution_count": 12,
   "id": "8bd4f727-1103-45cb-a733-b0797d2fb98e",
   "metadata": {},
   "outputs": [],
   "source": [
    "train_df = pd.read_csv('data/train.csv')"
   ]
  },
  {
   "cell_type": "markdown",
   "id": "7b62d19d-f3ca-4d74-b2ae-c4dd5c63b1d9",
   "metadata": {},
   "source": [
    "## Data preprocessing"
   ]
  },
  {
   "cell_type": "markdown",
   "id": "2f893d8f-030f-42ad-b83f-54294e3506ae",
   "metadata": {},
   "source": [
    "**Dummy encoding**"
   ]
  },
  {
   "cell_type": "code",
   "execution_count": 13,
   "id": "e7145d03-d090-4a5d-859d-7442f3833582",
   "metadata": {},
   "outputs": [],
   "source": [
    "df_num = train_df.copy()"
   ]
  },
  {
   "cell_type": "code",
   "execution_count": 33,
   "id": "55f95a22-a569-4379-bf2e-5d496340e01e",
   "metadata": {},
   "outputs": [],
   "source": [
    "X = df_num.drop('Churn', axis=1)\n",
    "y = df_num['Churn']\n",
    "\n",
    "X_train, X_test, y_train, y_test = train_test_split(X, y, test_size=0.2, random_state=42) \n",
    "\n",
    "# Retrieve 'CustomerID' from test set data\n",
    "test_CustomerID = X_test[\"CustomerID\"].copy()\n",
    "\n",
    "# Retrieve 'Churn' from test set data\n",
    "test_Churn = y_test.copy()\n",
    "\n",
    "# Combine 'CustomerID' and 'Churn' into a DataFrame\n",
    "test_df = pd.DataFrame({'CustomerID': test_CustomerID, 'Churn': test_Churn})\n",
    "\n",
    "# Save the test set 'CustomerID' and 'Churn' to a CSV file\n",
    "test_df.to_csv('test_CustomerID_Churn.csv', index=False)"
   ]
  },
  {
   "cell_type": "code",
   "execution_count": 14,
   "id": "fa034181-570d-4a8f-b1e7-a4e1d4e71b41",
   "metadata": {},
   "outputs": [
    {
     "name": "stdout",
     "output_type": "stream",
     "text": [
      "SubscriptionType : 3\n",
      "PaymentMethod : 4\n",
      "PaperlessBilling : 2\n",
      "ContentType : 3\n",
      "MultiDeviceAccess : 2\n",
      "DeviceRegistered : 4\n",
      "GenrePreference : 5\n",
      "Gender : 2\n",
      "ParentalControl : 2\n",
      "SubtitlesEnabled : 2\n",
      "CustomerID : 243787\n"
     ]
    }
   ],
   "source": [
    "# Select categorical columns\n",
    "cat_cols = df_num.select_dtypes(include=['object']).columns\n",
    "\n",
    "for col in cat_cols:\n",
    "    print(col, \":\", df_num[col].nunique())"
   ]
  },
  {
   "cell_type": "code",
   "execution_count": 15,
   "id": "38b979fd-69ae-4b47-8781-af93e8e6b0f0",
   "metadata": {},
   "outputs": [],
   "source": [
    "# Let's drop CustomerID\n",
    "cat_cols = cat_cols.drop('CustomerID')"
   ]
  },
  {
   "cell_type": "code",
   "execution_count": 16,
   "id": "958b3d04-b844-4ff6-ba6f-078f5555b610",
   "metadata": {},
   "outputs": [],
   "source": [
    "# Let's create dummies\n",
    "for col in cat_cols:\n",
    "    df_num = pd.get_dummies(df_num, columns=[col])"
   ]
  },
  {
   "cell_type": "code",
   "execution_count": 17,
   "id": "685740de-7188-43f1-8954-950f45bf06ba",
   "metadata": {},
   "outputs": [],
   "source": [
    "df_processed=df_num.drop('CustomerID', axis=1)"
   ]
  },
  {
   "cell_type": "markdown",
   "id": "00fce6cb-9239-4208-bc21-9309d7b5a25f",
   "metadata": {},
   "source": [
    "## Training"
   ]
  },
  {
   "cell_type": "code",
   "execution_count": 18,
   "id": "1682789e-fb4e-49ff-8e2a-42aa3b81842f",
   "metadata": {},
   "outputs": [],
   "source": [
    "X = df_processed.drop('Churn', axis=1)\n",
    "y = df_processed['Churn']"
   ]
  },
  {
   "cell_type": "code",
   "execution_count": 19,
   "id": "0beb789c-f142-4df6-818b-d0f53ea9a8fc",
   "metadata": {},
   "outputs": [],
   "source": [
    "# Spliting the data to train-test\n",
    "X_train, X_test, y_train, y_test = train_test_split(X, y, test_size=0.2, random_state=42) "
   ]
  },
  {
   "cell_type": "code",
   "execution_count": 20,
   "id": "2f3a4562-8772-4285-b4e3-b9000e35c7df",
   "metadata": {},
   "outputs": [],
   "source": [
    "# Let's try oversampling\n",
    "\n",
    "oversample = SMOTE(random_state=42)\n",
    "X_train, y_train = oversample.fit_resample(X_train, y_train)"
   ]
  },
  {
   "cell_type": "code",
   "execution_count": 21,
   "id": "4c368a5d-d149-4170-bd7f-1f0c18792126",
   "metadata": {},
   "outputs": [],
   "source": [
    "scaler = StandardScaler()"
   ]
  },
  {
   "cell_type": "code",
   "execution_count": 22,
   "id": "560940e9-8e38-4ac8-b48b-a553ae009f45",
   "metadata": {},
   "outputs": [
    {
     "data": {
      "text/html": [
       "<style>#sk-container-id-1 {color: black;}#sk-container-id-1 pre{padding: 0;}#sk-container-id-1 div.sk-toggleable {background-color: white;}#sk-container-id-1 label.sk-toggleable__label {cursor: pointer;display: block;width: 100%;margin-bottom: 0;padding: 0.3em;box-sizing: border-box;text-align: center;}#sk-container-id-1 label.sk-toggleable__label-arrow:before {content: \"▸\";float: left;margin-right: 0.25em;color: #696969;}#sk-container-id-1 label.sk-toggleable__label-arrow:hover:before {color: black;}#sk-container-id-1 div.sk-estimator:hover label.sk-toggleable__label-arrow:before {color: black;}#sk-container-id-1 div.sk-toggleable__content {max-height: 0;max-width: 0;overflow: hidden;text-align: left;background-color: #f0f8ff;}#sk-container-id-1 div.sk-toggleable__content pre {margin: 0.2em;color: black;border-radius: 0.25em;background-color: #f0f8ff;}#sk-container-id-1 input.sk-toggleable__control:checked~div.sk-toggleable__content {max-height: 200px;max-width: 100%;overflow: auto;}#sk-container-id-1 input.sk-toggleable__control:checked~label.sk-toggleable__label-arrow:before {content: \"▾\";}#sk-container-id-1 div.sk-estimator input.sk-toggleable__control:checked~label.sk-toggleable__label {background-color: #d4ebff;}#sk-container-id-1 div.sk-label input.sk-toggleable__control:checked~label.sk-toggleable__label {background-color: #d4ebff;}#sk-container-id-1 input.sk-hidden--visually {border: 0;clip: rect(1px 1px 1px 1px);clip: rect(1px, 1px, 1px, 1px);height: 1px;margin: -1px;overflow: hidden;padding: 0;position: absolute;width: 1px;}#sk-container-id-1 div.sk-estimator {font-family: monospace;background-color: #f0f8ff;border: 1px dotted black;border-radius: 0.25em;box-sizing: border-box;margin-bottom: 0.5em;}#sk-container-id-1 div.sk-estimator:hover {background-color: #d4ebff;}#sk-container-id-1 div.sk-parallel-item::after {content: \"\";width: 100%;border-bottom: 1px solid gray;flex-grow: 1;}#sk-container-id-1 div.sk-label:hover label.sk-toggleable__label {background-color: #d4ebff;}#sk-container-id-1 div.sk-serial::before {content: \"\";position: absolute;border-left: 1px solid gray;box-sizing: border-box;top: 0;bottom: 0;left: 50%;z-index: 0;}#sk-container-id-1 div.sk-serial {display: flex;flex-direction: column;align-items: center;background-color: white;padding-right: 0.2em;padding-left: 0.2em;position: relative;}#sk-container-id-1 div.sk-item {position: relative;z-index: 1;}#sk-container-id-1 div.sk-parallel {display: flex;align-items: stretch;justify-content: center;background-color: white;position: relative;}#sk-container-id-1 div.sk-item::before, #sk-container-id-1 div.sk-parallel-item::before {content: \"\";position: absolute;border-left: 1px solid gray;box-sizing: border-box;top: 0;bottom: 0;left: 50%;z-index: -1;}#sk-container-id-1 div.sk-parallel-item {display: flex;flex-direction: column;z-index: 1;position: relative;background-color: white;}#sk-container-id-1 div.sk-parallel-item:first-child::after {align-self: flex-end;width: 50%;}#sk-container-id-1 div.sk-parallel-item:last-child::after {align-self: flex-start;width: 50%;}#sk-container-id-1 div.sk-parallel-item:only-child::after {width: 0;}#sk-container-id-1 div.sk-dashed-wrapped {border: 1px dashed gray;margin: 0 0.4em 0.5em 0.4em;box-sizing: border-box;padding-bottom: 0.4em;background-color: white;}#sk-container-id-1 div.sk-label label {font-family: monospace;font-weight: bold;display: inline-block;line-height: 1.2em;}#sk-container-id-1 div.sk-label-container {text-align: center;}#sk-container-id-1 div.sk-container {/* jupyter's `normalize.less` sets `[hidden] { display: none; }` but bootstrap.min.css set `[hidden] { display: none !important; }` so we also need the `!important` here to be able to override the default hidden behavior on the sphinx rendered scikit-learn.org. See: https://github.com/scikit-learn/scikit-learn/issues/21755 */display: inline-block !important;position: relative;}#sk-container-id-1 div.sk-text-repr-fallback {display: none;}</style><div id=\"sk-container-id-1\" class=\"sk-top-container\"><div class=\"sk-text-repr-fallback\"><pre>StandardScaler()</pre><b>In a Jupyter environment, please rerun this cell to show the HTML representation or trust the notebook. <br />On GitHub, the HTML representation is unable to render, please try loading this page with nbviewer.org.</b></div><div class=\"sk-container\" hidden><div class=\"sk-item\"><div class=\"sk-estimator sk-toggleable\"><input class=\"sk-toggleable__control sk-hidden--visually\" id=\"sk-estimator-id-1\" type=\"checkbox\" checked><label for=\"sk-estimator-id-1\" class=\"sk-toggleable__label sk-toggleable__label-arrow\">StandardScaler</label><div class=\"sk-toggleable__content\"><pre>StandardScaler()</pre></div></div></div></div></div>"
      ],
      "text/plain": [
       "StandardScaler()"
      ]
     },
     "execution_count": 22,
     "metadata": {},
     "output_type": "execute_result"
    }
   ],
   "source": [
    "scaler.fit(X_train)"
   ]
  },
  {
   "cell_type": "code",
   "execution_count": 23,
   "id": "48d2e0b5-233c-4a08-a2fa-436539ea01b2",
   "metadata": {},
   "outputs": [],
   "source": [
    "X_train = scaler.transform(X_train)\n",
    "X_test = scaler.transform(X_test)"
   ]
  },
  {
   "cell_type": "code",
   "execution_count": 24,
   "id": "0d03fa18-47c9-40c3-b28e-87424eb91710",
   "metadata": {},
   "outputs": [],
   "source": [
    "# initialize the Random Forest Classifier\n",
    "rf = RandomForestClassifier(n_estimators=500, random_state=42)\n",
    "\n",
    "# training the model\n",
    "rf.fit(X_train, y_train)\n",
    "\n",
    "# predicting the probabilities for Random Forest Model\n",
    "y_pred_rf_prob = rf.predict_proba(X_test)[:,1]"
   ]
  },
  {
   "cell_type": "markdown",
   "id": "56c6578a-75ca-4494-832b-3d3c24697d69",
   "metadata": {},
   "source": [
    "## Evaluation"
   ]
  },
  {
   "cell_type": "code",
   "execution_count": 25,
   "id": "0b49b3f5-b444-458e-865b-a10d338a209a",
   "metadata": {},
   "outputs": [
    {
     "name": "stdout",
     "output_type": "stream",
     "text": [
      "ROC AUC Score for Random Forest:  0.7352299942912236\n"
     ]
    }
   ],
   "source": [
    "# calculating ROC AUC score\n",
    "roc_auc_rf = roc_auc_score(y_test, y_pred_rf_prob)\n",
    "print(\"ROC AUC Score for Random Forest: \", roc_auc_rf)"
   ]
  },
  {
   "cell_type": "code",
   "execution_count": 26,
   "id": "062a9f67-2edf-4b48-9a32-f4de32f73383",
   "metadata": {},
   "outputs": [
    {
     "name": "stdout",
     "output_type": "stream",
     "text": [
      "Classification Report: \n",
      "               precision    recall  f1-score   support\n",
      "\n",
      "           0       0.83      0.99      0.90     39968\n",
      "           1       0.59      0.06      0.12      8790\n",
      "\n",
      "    accuracy                           0.82     48758\n",
      "   macro avg       0.71      0.53      0.51     48758\n",
      "weighted avg       0.79      0.82      0.76     48758\n",
      "\n"
     ]
    }
   ],
   "source": [
    "y_pred = rf.predict(X_test)\n",
    "print(\"Classification Report: \\n\", classification_report(y_test, y_pred))"
   ]
  },
  {
   "cell_type": "code",
   "execution_count": 27,
   "id": "1c55e6bb-e887-4a4d-a4c4-b1df962343eb",
   "metadata": {},
   "outputs": [
    {
     "name": "stdout",
     "output_type": "stream",
     "text": [
      "The accuracy of the classifier on positive class is :  0.8137929473541261\n"
     ]
    }
   ],
   "source": [
    "# Let's check the accuracy for the algorithm predicting 1\n",
    "# Separate features and target from df_processed\n",
    "features_processed = df_processed.drop('Churn', axis=1)\n",
    "target_processed = df_processed['Churn']\n",
    "\n",
    "# First get predictions for entire df_processed data\n",
    "features_processed_scaled = scaler.transform(features_processed) \n",
    "predictions_processed = rf.predict(features_processed_scaled)\n",
    "\n",
    "# Now make a subset of df_processed where true class is 1\n",
    "features_processed_pos = features_processed[target_processed==1] \n",
    "\n",
    "# Now make a subset of prediction where true class is 1\n",
    "predictions_processed_pos = predictions_processed[target_processed==1]\n",
    "\n",
    "# get the accuracy for class 1 predictions\n",
    "accuracy = accuracy_score(target_processed[target_processed==1], predictions_processed_pos)\n",
    "\n",
    "print(\"The accuracy of the classifier on positive class is : \", accuracy)"
   ]
  },
  {
   "cell_type": "code",
   "execution_count": 28,
   "id": "b3fc109f-2e9c-479c-a272-2c019fee9fe8",
   "metadata": {},
   "outputs": [
    {
     "name": "stdout",
     "output_type": "stream",
     "text": [
      "The accuracy of the classifier on negative class is :  0.9980461411287292\n"
     ]
    }
   ],
   "source": [
    "# Let's check the accuracy for the algorithm predicting 0\n",
    "\n",
    "# Make a subset of df_processed where true class is 0\n",
    "features_processed_neg = features_processed[target_processed==0] \n",
    "\n",
    "# Make a subset of prediction where true class is 0\n",
    "predictions_processed_neg = predictions_processed[target_processed==0]\n",
    "\n",
    "# Get the accuracy for class 0 predictions\n",
    "accuracy = accuracy_score(target_processed[target_processed==0], predictions_processed_neg)\n",
    "\n",
    "print(\"The accuracy of the classifier on negative class is : \", accuracy)"
   ]
  },
  {
   "cell_type": "markdown",
   "id": "6026a2fc-91a3-4aef-913b-2cd8be5c741c",
   "metadata": {},
   "source": [
    "## Customer ID checking"
   ]
  },
  {
   "cell_type": "code",
   "execution_count": 29,
   "id": "c964be6f-98a3-411c-9313-2f48b15addd2",
   "metadata": {},
   "outputs": [
    {
     "name": "stdout",
     "output_type": "stream",
     "text": [
      "Predicted Churn: 1\n",
      "True Churn: 1\n"
     ]
    }
   ],
   "source": [
    "# choose a customer with a specific id\n",
    "customer_id = 'GE07ASO3L7' \n",
    "customer = train_df[train_df['CustomerID'] == customer_id]\n",
    "\n",
    "# preprocess data to match model's input\n",
    "customer_preprocessed = pd.get_dummies(customer.drop('CustomerID', axis=1))\n",
    "missing_cols = set(df_processed.columns) - set(customer_preprocessed.columns)\n",
    "\n",
    "# if there are missing columns add them to the dataframe and fill with 0\n",
    "for c in missing_cols:\n",
    "    customer_preprocessed[c] = 0\n",
    "\n",
    "# ensure the customer data has the same columns as the training data\n",
    "customer_preprocessed = customer_preprocessed[df_processed.columns]\n",
    "\n",
    "# separate features from the target, drop target from features\n",
    "customer_features = customer_preprocessed.drop('Churn', axis=1)\n",
    "customer_target = customer_preprocessed['Churn']\n",
    "\n",
    "# Scale the customer_features before prediction\n",
    "customer_features_scaled = scaler.transform(customer_features)\n",
    "\n",
    "# predict the churn for the specific customer\n",
    "customer_prediction = rf.predict(customer_features_scaled) \n",
    "\n",
    "# print the prediction and true value\n",
    "print(f\"Predicted Churn: {customer_prediction[0]}\")\n",
    "print(f\"True Churn: {customer_target.values[0]}\")"
   ]
  },
  {
   "cell_type": "code",
   "execution_count": 30,
   "id": "533f25f0-bd53-4ade-a382-2d75e20a37e5",
   "metadata": {},
   "outputs": [
    {
     "name": "stdout",
     "output_type": "stream",
     "text": [
      "Full Classification Report: \n",
      "               precision    recall  f1-score   support\n",
      "\n",
      "           0       0.96      1.00      0.98    199605\n",
      "           1       0.99      0.81      0.89     44182\n",
      "\n",
      "    accuracy                           0.96    243787\n",
      "   macro avg       0.97      0.91      0.94    243787\n",
      "weighted avg       0.97      0.96      0.96    243787\n",
      "\n"
     ]
    }
   ],
   "source": [
    "# Use the entire processed features for prediction\n",
    "full_features = df_processed.drop('Churn', axis=1)\n",
    "full_target = df_processed['Churn']\n",
    "\n",
    "# Scale your features\n",
    "full_features_scaled = scaler.transform(full_features)\n",
    "\n",
    "# Generate predictions for all rows of your train set \n",
    "full_predictions = rf.predict(full_features_scaled)\n",
    "\n",
    "# Print classification report for all rows\n",
    "full_classification_report = classification_report(full_target, full_predictions)\n",
    "\n",
    "print(\"Full Classification Report: \\n\", full_classification_report)"
   ]
  },
  {
   "cell_type": "code",
   "execution_count": 31,
   "id": "a9e439f9-3f5d-4688-bdb0-015c2f593039",
   "metadata": {},
   "outputs": [
    {
     "name": "stdout",
     "output_type": "stream",
     "text": [
      "Full ROC AUC:  0.9844711313875733\n"
     ]
    }
   ],
   "source": [
    "# Generate probabilistic predictions for ROC AUC\n",
    "full_predictions_proba = rf.predict_proba(full_features_scaled)[:,1]\n",
    "\n",
    "# Compute ROC AUC\n",
    "full_roc_auc = roc_auc_score(full_target, full_predictions_proba)\n",
    "\n",
    "print(\"Full ROC AUC: \", full_roc_auc)"
   ]
  },
  {
   "cell_type": "markdown",
   "id": "4bf9395b-4d29-4c0f-a6d2-ac32eed84b6f",
   "metadata": {},
   "source": [
    "## Saving the model"
   ]
  },
  {
   "cell_type": "code",
   "execution_count": 61,
   "id": "5a7df120-393d-4d0b-ae08-26a388256db3",
   "metadata": {},
   "outputs": [
    {
     "data": {
      "text/plain": [
       "['model.joblib']"
      ]
     },
     "execution_count": 61,
     "metadata": {},
     "output_type": "execute_result"
    }
   ],
   "source": [
    "dump(rf, 'model.joblib')"
   ]
  },
  {
   "cell_type": "code",
   "execution_count": 62,
   "id": "bb31b5e3-4464-4d95-80a9-414f62d10298",
   "metadata": {},
   "outputs": [
    {
     "data": {
      "text/plain": [
       "['scaler.joblib']"
      ]
     },
     "execution_count": 62,
     "metadata": {},
     "output_type": "execute_result"
    }
   ],
   "source": [
    "# Save the scaler\n",
    "\n",
    "dump(scaler, 'scaler.joblib')"
   ]
  }
 ],
 "metadata": {
  "kernelspec": {
   "display_name": "Python 3 (ipykernel)",
   "language": "python",
   "name": "python3"
  },
  "language_info": {
   "codemirror_mode": {
    "name": "ipython",
    "version": 3
   },
   "file_extension": ".py",
   "mimetype": "text/x-python",
   "name": "python",
   "nbconvert_exporter": "python",
   "pygments_lexer": "ipython3",
   "version": "3.10.0"
  }
 },
 "nbformat": 4,
 "nbformat_minor": 5
}
